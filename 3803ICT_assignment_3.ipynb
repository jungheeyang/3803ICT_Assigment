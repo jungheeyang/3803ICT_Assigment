{
 "cells": [
  {
   "cell_type": "markdown",
   "id": "biological-singapore",
   "metadata": {},
   "source": [
    "# 3803ICT Big Data Analysis"
   ]
  },
  {
   "cell_type": "markdown",
   "id": "handed-arbor",
   "metadata": {},
   "source": [
    "<p>Junghee Yang s5124191<br></p>\n",
    "<p>Yunpeng Huang s5056747<br></p>"
   ]
  },
  {
   "cell_type": "markdown",
   "id": "collaborative-counter",
   "metadata": {},
   "source": [
    "## Part 1 - Data Preparation and Preprocessing"
   ]
  },
  {
   "cell_type": "code",
   "execution_count": 1,
   "id": "short-cause",
   "metadata": {},
   "outputs": [],
   "source": [
    "import pandas as pd"
   ]
  },
  {
   "cell_type": "code",
   "execution_count": 2,
   "id": "horizontal-bridge",
   "metadata": {},
   "outputs": [
    {
     "name": "stderr",
     "output_type": "stream",
     "text": [
      "/Users/katyang/opt/miniconda3/envs/3803ict/lib/python3.7/site-packages/IPython/core/interactiveshell.py:3166: DtypeWarning: Columns (0,4,5,6,7) have mixed types.Specify dtype option on import or set low_memory=False.\n",
      "  interactivity=interactivity, compiler=compiler, result=result)\n"
     ]
    },
    {
     "data": {
      "text/html": [
       "<div>\n",
       "<style scoped>\n",
       "    .dataframe tbody tr th:only-of-type {\n",
       "        vertical-align: middle;\n",
       "    }\n",
       "\n",
       "    .dataframe tbody tr th {\n",
       "        vertical-align: top;\n",
       "    }\n",
       "\n",
       "    .dataframe thead th {\n",
       "        text-align: right;\n",
       "    }\n",
       "</style>\n",
       "<table border=\"1\" class=\"dataframe\">\n",
       "  <thead>\n",
       "    <tr style=\"text-align: right;\">\n",
       "      <th></th>\n",
       "      <th>Id</th>\n",
       "      <th>Title</th>\n",
       "      <th>Company</th>\n",
       "      <th>Date</th>\n",
       "      <th>Location</th>\n",
       "      <th>Area</th>\n",
       "      <th>Classification</th>\n",
       "      <th>SubClassification</th>\n",
       "      <th>Requirement</th>\n",
       "      <th>FullDescription</th>\n",
       "      <th>LowestSalary</th>\n",
       "      <th>HighestSalary</th>\n",
       "      <th>JobType</th>\n",
       "    </tr>\n",
       "  </thead>\n",
       "  <tbody>\n",
       "    <tr>\n",
       "      <th>0</th>\n",
       "      <td>37404348</td>\n",
       "      <td>Casual Stock Replenisher</td>\n",
       "      <td>Aldi Stores</td>\n",
       "      <td>2018-10-07T00:00:00.000Z</td>\n",
       "      <td>Sydney</td>\n",
       "      <td>North West &amp; Hills District</td>\n",
       "      <td>Retail &amp; Consumer Products</td>\n",
       "      <td>Retail Assistants</td>\n",
       "      <td>Our Casual Stock Replenishers pride themselves...</td>\n",
       "      <td>NaN</td>\n",
       "      <td>0</td>\n",
       "      <td>30</td>\n",
       "      <td>NaN</td>\n",
       "    </tr>\n",
       "    <tr>\n",
       "      <th>1</th>\n",
       "      <td>37404337</td>\n",
       "      <td>Casual Stock Replenisher</td>\n",
       "      <td>Aldi Stores</td>\n",
       "      <td>2018-10-07T00:00:00.000Z</td>\n",
       "      <td>Richmond &amp; Hawkesbury</td>\n",
       "      <td>NaN</td>\n",
       "      <td>Retail &amp; Consumer Products</td>\n",
       "      <td>Retail Assistants</td>\n",
       "      <td>Our Casual Stock Replenishers pride themselves...</td>\n",
       "      <td>NaN</td>\n",
       "      <td>0</td>\n",
       "      <td>30</td>\n",
       "      <td>NaN</td>\n",
       "    </tr>\n",
       "    <tr>\n",
       "      <th>2</th>\n",
       "      <td>37404356</td>\n",
       "      <td>RETAIL SALES SUPERSTARS and STYLISTS Wanted - ...</td>\n",
       "      <td>LB Creative Pty Ltd</td>\n",
       "      <td>2018-10-07T00:00:00.000Z</td>\n",
       "      <td>Brisbane</td>\n",
       "      <td>CBD &amp; Inner Suburbs</td>\n",
       "      <td>Retail &amp; Consumer Products</td>\n",
       "      <td>Retail Assistants</td>\n",
       "      <td>BRAND NEW FLAGSHIP STORE OPENING - SUNSHINE PLAZA</td>\n",
       "      <td>NaN</td>\n",
       "      <td>0</td>\n",
       "      <td>30</td>\n",
       "      <td>NaN</td>\n",
       "    </tr>\n",
       "    <tr>\n",
       "      <th>3</th>\n",
       "      <td>37404330</td>\n",
       "      <td>Team member - Belrose</td>\n",
       "      <td>Anaconda Group Pty Ltd</td>\n",
       "      <td>2018-10-07T00:00:00.000Z</td>\n",
       "      <td>Gosford &amp; Central Coast</td>\n",
       "      <td>NaN</td>\n",
       "      <td>Retail &amp; Consumer Products</td>\n",
       "      <td>Retail Assistants</td>\n",
       "      <td>Bring it on - do you love the great outdoors a...</td>\n",
       "      <td>NaN</td>\n",
       "      <td>0</td>\n",
       "      <td>30</td>\n",
       "      <td>NaN</td>\n",
       "    </tr>\n",
       "    <tr>\n",
       "      <th>4</th>\n",
       "      <td>37404308</td>\n",
       "      <td>Business Banking Contact Centre Specialist, Ni...</td>\n",
       "      <td>Commonwealth Bank - Business &amp; Private Banking</td>\n",
       "      <td>2018-10-07T00:00:00.000Z</td>\n",
       "      <td>Sydney</td>\n",
       "      <td>Ryde &amp; Macquarie Park</td>\n",
       "      <td>Call Centre &amp; Customer Service</td>\n",
       "      <td>Sales - Inbound</td>\n",
       "      <td>We are seeking highly articulate, enthusiastic...</td>\n",
       "      <td>NaN</td>\n",
       "      <td>0</td>\n",
       "      <td>30</td>\n",
       "      <td>NaN</td>\n",
       "    </tr>\n",
       "  </tbody>\n",
       "</table>\n",
       "</div>"
      ],
      "text/plain": [
       "         Id                                              Title  \\\n",
       "0  37404348                           Casual Stock Replenisher   \n",
       "1  37404337                           Casual Stock Replenisher   \n",
       "2  37404356  RETAIL SALES SUPERSTARS and STYLISTS Wanted - ...   \n",
       "3  37404330                              Team member - Belrose   \n",
       "4  37404308  Business Banking Contact Centre Specialist, Ni...   \n",
       "\n",
       "                                          Company                      Date  \\\n",
       "0                                     Aldi Stores  2018-10-07T00:00:00.000Z   \n",
       "1                                     Aldi Stores  2018-10-07T00:00:00.000Z   \n",
       "2                             LB Creative Pty Ltd  2018-10-07T00:00:00.000Z   \n",
       "3                          Anaconda Group Pty Ltd  2018-10-07T00:00:00.000Z   \n",
       "4  Commonwealth Bank - Business & Private Banking  2018-10-07T00:00:00.000Z   \n",
       "\n",
       "                  Location                         Area  \\\n",
       "0                   Sydney  North West & Hills District   \n",
       "1    Richmond & Hawkesbury                          NaN   \n",
       "2                 Brisbane          CBD & Inner Suburbs   \n",
       "3  Gosford & Central Coast                          NaN   \n",
       "4                   Sydney        Ryde & Macquarie Park   \n",
       "\n",
       "                   Classification  SubClassification  \\\n",
       "0      Retail & Consumer Products  Retail Assistants   \n",
       "1      Retail & Consumer Products  Retail Assistants   \n",
       "2      Retail & Consumer Products  Retail Assistants   \n",
       "3      Retail & Consumer Products  Retail Assistants   \n",
       "4  Call Centre & Customer Service    Sales - Inbound   \n",
       "\n",
       "                                         Requirement FullDescription  \\\n",
       "0  Our Casual Stock Replenishers pride themselves...             NaN   \n",
       "1  Our Casual Stock Replenishers pride themselves...             NaN   \n",
       "2  BRAND NEW FLAGSHIP STORE OPENING - SUNSHINE PLAZA             NaN   \n",
       "3  Bring it on - do you love the great outdoors a...             NaN   \n",
       "4  We are seeking highly articulate, enthusiastic...             NaN   \n",
       "\n",
       "   LowestSalary  HighestSalary JobType  \n",
       "0             0             30     NaN  \n",
       "1             0             30     NaN  \n",
       "2             0             30     NaN  \n",
       "3             0             30     NaN  \n",
       "4             0             30     NaN  "
      ]
     },
     "execution_count": 2,
     "metadata": {},
     "output_type": "execute_result"
    }
   ],
   "source": [
    "# Import data\n",
    "df = pd.read_csv('data.csv')\n",
    "df.head()"
   ]
  },
  {
   "cell_type": "markdown",
   "id": "labeled-hormone",
   "metadata": {},
   "source": [
    "### 1) Description of the dataset"
   ]
  },
  {
   "cell_type": "markdown",
   "id": "optical-divide",
   "metadata": {},
   "source": [
    "As shown in the cell below, this dataset is consist of 13 categories - Id, Title, Company, Date, Location, Area, Classification, SubClassification, Requirement, FullDescription, LowestSalary, HighestSalary, JobType.\n",
    "\n",
    "The dataset has 318,477 entities with the data type as an object except for salaries that is integers. Data type of Id and Date columns are converted properly for analysis.\n"
   ]
  },
  {
   "cell_type": "code",
   "execution_count": 3,
   "id": "residential-liverpool",
   "metadata": {},
   "outputs": [
    {
     "name": "stdout",
     "output_type": "stream",
     "text": [
      "Id, Title, Company, Date, Location, Area, Classification, SubClassification, Requirement, FullDescription, LowestSalary, HighestSalary, JobType, "
     ]
    }
   ],
   "source": [
    "# Categories (Columns) of the datset\n",
    "for i in df.columns:\n",
    "    print(i, end=', ')"
   ]
  },
  {
   "cell_type": "code",
   "execution_count": 4,
   "id": "administrative-ethernet",
   "metadata": {},
   "outputs": [
    {
     "data": {
      "text/plain": [
       "(318477, 13)"
      ]
     },
     "execution_count": 4,
     "metadata": {},
     "output_type": "execute_result"
    }
   ],
   "source": [
    "# Shape of the dataset\n",
    "df.shape"
   ]
  },
  {
   "cell_type": "code",
   "execution_count": 5,
   "id": "elementary-guinea",
   "metadata": {},
   "outputs": [
    {
     "data": {
      "text/plain": [
       "Id                   object\n",
       "Title                object\n",
       "Company              object\n",
       "Date                 object\n",
       "Location             object\n",
       "Area                 object\n",
       "Classification       object\n",
       "SubClassification    object\n",
       "Requirement          object\n",
       "FullDescription      object\n",
       "LowestSalary          int64\n",
       "HighestSalary         int64\n",
       "JobType              object\n",
       "dtype: object"
      ]
     },
     "execution_count": 5,
     "metadata": {},
     "output_type": "execute_result"
    }
   ],
   "source": [
    "# Data types for each columns\n",
    "df.dtypes"
   ]
  },
  {
   "cell_type": "markdown",
   "id": "raised-investigator",
   "metadata": {},
   "source": [
    "### 2) Steps for data preparation and preprocessing"
   ]
  },
  {
   "cell_type": "markdown",
   "id": "impossible-campbell",
   "metadata": {},
   "source": [
    "The dataset is imported using the Pandas library at the top of this report. Based on the missing data percentage list, the Area column has the most missing values, 61%. Location, Classification, and SubClassification columns have missing data that consist of 38%.\n",
    "The goal of normalization is to change the values of numeric columns in the dataset to a standard scale without distorting differences in the ranges of values. However, the only numeric columns in the dataset are LowestSalary and HighestSalary, which both have the same range and scale. Therefore, We decided not to normalize the data. \n",
    "Duplicated or null values are dropped using the Pandas library function. "
   ]
  },
  {
   "cell_type": "markdown",
   "id": "opposite-digest",
   "metadata": {},
   "source": [
    "#### Data type"
   ]
  },
  {
   "cell_type": "code",
   "execution_count": 6,
   "id": "traditional-departure",
   "metadata": {},
   "outputs": [
    {
     "data": {
      "text/plain": [
       "Id                           object\n",
       "Title                        object\n",
       "Company                      object\n",
       "Date                 datetime64[ns]\n",
       "Location                     object\n",
       "Area                         object\n",
       "Classification               object\n",
       "SubClassification            object\n",
       "Requirement                  object\n",
       "FullDescription              object\n",
       "LowestSalary                  int64\n",
       "HighestSalary                 int64\n",
       "JobType                      object\n",
       "dtype: object"
      ]
     },
     "execution_count": 6,
     "metadata": {},
     "output_type": "execute_result"
    }
   ],
   "source": [
    "# Conver data types for each columns\n",
    "df['Date'] = pd.to_datetime(df['Date'], format='%Y-%m-%dT%H:%M:%S.000Z')\n",
    "# Data types for each columns\n",
    "df.dtypes"
   ]
  },
  {
   "cell_type": "code",
   "execution_count": 7,
   "id": "parliamentary-mobile",
   "metadata": {},
   "outputs": [],
   "source": [
    "# Add the average salary column\n",
    "df['AverageSalary'] = (df[\"LowestSalary\"] + df[\"HighestSalary\"])/2 "
   ]
  },
  {
   "cell_type": "markdown",
   "id": "mediterranean-satisfaction",
   "metadata": {},
   "source": [
    "#### NULL values"
   ]
  },
  {
   "cell_type": "code",
   "execution_count": 8,
   "id": "introductory-offense",
   "metadata": {},
   "outputs": [
    {
     "data": {
      "text/plain": [
       "Id                        0\n",
       "Title                     0\n",
       "Company               12004\n",
       "Date                      0\n",
       "Location             121248\n",
       "Area                 195819\n",
       "Classification       121248\n",
       "SubClassification    121248\n",
       "Requirement               7\n",
       "FullDescription       16175\n",
       "LowestSalary              0\n",
       "HighestSalary             0\n",
       "JobType               16098\n",
       "AverageSalary             0\n",
       "dtype: int64"
      ]
     },
     "execution_count": 8,
     "metadata": {},
     "output_type": "execute_result"
    }
   ],
   "source": [
    "# Count NA\n",
    "df.isna().sum()"
   ]
  },
  {
   "cell_type": "code",
   "execution_count": 9,
   "id": "voluntary-parker",
   "metadata": {},
   "outputs": [
    {
     "data": {
      "text/plain": [
       "(318477, 14)"
      ]
     },
     "execution_count": 9,
     "metadata": {},
     "output_type": "execute_result"
    }
   ],
   "source": [
    "df.shape"
   ]
  },
  {
   "cell_type": "code",
   "execution_count": 10,
   "id": "material-rating",
   "metadata": {},
   "outputs": [
    {
     "data": {
      "text/plain": [
       "(111109, 14)"
      ]
     },
     "execution_count": 10,
     "metadata": {},
     "output_type": "execute_result"
    }
   ],
   "source": [
    "# Remove missing values\n",
    "df = df.dropna(axis=0)\n",
    "df.shape"
   ]
  },
  {
   "cell_type": "markdown",
   "id": "unlike-appearance",
   "metadata": {},
   "source": [
    "#### Cleaning text"
   ]
  },
  {
   "cell_type": "code",
   "execution_count": 11,
   "id": "specialized-boost",
   "metadata": {
    "scrolled": true
   },
   "outputs": [
    {
     "data": {
      "text/plain": [
       "121       <p>&nbsp;</p>\\n        <p><strong><em>*&nbsp; ...\n",
       "122       <p>one of australia's best engineering worksho...\n",
       "125       <p style=\"text-align:center;\"><strong>what is ...\n",
       "126       <p>this australian icon, connects the people o...\n",
       "127       <strong>the company</strong><br> <br> this org...\n",
       "                                ...                        \n",
       "197216    <p>myhouse is a successful, family owned retai...\n",
       "197217    <ul>\\n          <li><strong>work on a large ba...\n",
       "197218    <p>leading financial sector is seeking an it t...\n",
       "197222    <p>this privately owned leading national const...\n",
       "197225    <ul>\\n          <li>growing &amp; financially ...\n",
       "Name: FullDescription, Length: 111109, dtype: object"
      ]
     },
     "execution_count": 11,
     "metadata": {},
     "output_type": "execute_result"
    }
   ],
   "source": [
    "df['FullDescription'] = df[\"FullDescription\"].str.lower()\n",
    "df['FullDescription']"
   ]
  },
  {
   "cell_type": "code",
   "execution_count": 17,
   "id": "regulated-vegetable",
   "metadata": {},
   "outputs": [],
   "source": [
    "def remove_html(text):\n",
    "    html_pattern = re.compile('<[^>]+>')\n",
    "    return html_pattern.sub(r'', text)\n",
    "df['FullDescription'] = df['FullDescription'].apply(lambda text: remove_html(text))"
   ]
  },
  {
   "cell_type": "code",
   "execution_count": 18,
   "id": "delayed-october",
   "metadata": {},
   "outputs": [],
   "source": [
    "punct_str = string.punctuation\n",
    "def remove_punctuation(text):\n",
    "    return text.translate(str.maketrans('', '', punct_str))\n",
    "\n",
    "df['FullDescription'] = df['FullDescription'].apply(lambda text: remove_punctuation(text))"
   ]
  },
  {
   "cell_type": "code",
   "execution_count": 19,
   "id": "interior-paraguay",
   "metadata": {
    "scrolled": true
   },
   "outputs": [],
   "source": [
    "def remove_newline(text):\n",
    "    newline_pattern = re.compile('\\n')\n",
    "    return newline_pattern.sub(r'', text)\n",
    "df['FullDescription'] = df['FullDescription'].apply(lambda text: remove_newline(text))"
   ]
  },
  {
   "cell_type": "code",
   "execution_count": 20,
   "id": "agreed-anime",
   "metadata": {},
   "outputs": [],
   "source": [
    "SPW = set(stopwords.words('english'))\n",
    "def remove_stopwords(text):\n",
    "    return \" \".join([word for word in str(text).split() if word not in SPW])\n",
    "df['FullDescription'] = df['FullDescription'].apply(lambda text: remove_stopwords(text))"
   ]
  },
  {
   "cell_type": "code",
   "execution_count": 21,
   "id": "hydraulic-parking",
   "metadata": {},
   "outputs": [
    {
     "data": {
      "text/plain": [
       "[('experience', 240110),\n",
       " ('work', 188490),\n",
       " ('team', 188070),\n",
       " ('role', 187766),\n",
       " ('skills', 146806),\n",
       " ('nbsp', 144067),\n",
       " ('business', 124181),\n",
       " ('management', 111722),\n",
       " ('working', 110623),\n",
       " ('please', 99027)]"
      ]
     },
     "execution_count": 21,
     "metadata": {},
     "output_type": "execute_result"
    }
   ],
   "source": [
    "cnt = Counter()\n",
    "for text in df['FullDescription'].values:\n",
    "    for word in text.split():\n",
    "        cnt[word] += 1\n",
    "cnt.most_common(10)"
   ]
  },
  {
   "cell_type": "code",
   "execution_count": 22,
   "id": "recovered-wells",
   "metadata": {},
   "outputs": [],
   "source": [
    "n_rare_words = 40\n",
    "result = Counter({x: count for x, count in cnt.items() if count < n_rare_words})\n",
    "RAREWORDS = set([w for w in result])\n",
    "def remove_rarewords(text):\n",
    "    return \" \".join([word for word in str(text).split() if word not in RAREWORDS])\n",
    "\n",
    "df[\"FullDescription\"] = df[\"FullDescription\"].apply(lambda text: remove_rarewords(text))"
   ]
  },
  {
   "cell_type": "code",
   "execution_count": 23,
   "id": "monthly-royalty",
   "metadata": {},
   "outputs": [],
   "source": [
    "def remove_url(text):\n",
    "    html_pattern = re.compile('http[s]?://(?:[a-z]|[0-9]|[$-_@.&amp;+]|[!*\\(\\),]|(?:%[0-9a-f][0-9a-f]))+')\n",
    "    return html_pattern.sub(r'', text)\n",
    "df['FullDescription'] = df['FullDescription'].apply(lambda text: remove_url(text))"
   ]
  },
  {
   "cell_type": "code",
   "execution_count": 24,
   "id": "casual-brooks",
   "metadata": {},
   "outputs": [],
   "source": [
    "def remove_nbsp(text):\n",
    "    html_pattern = re.compile('nbsp')\n",
    "    return html_pattern.sub(r'', text)\n",
    "df['FullDescription'] = df['FullDescription'].apply(lambda text: remove_nbsp(text))"
   ]
  },
  {
   "cell_type": "code",
   "execution_count": 25,
   "id": "blank-opinion",
   "metadata": {},
   "outputs": [],
   "source": [
    "regex_str = [\n",
    "    r'(?:(?:\\d+,?)+(?:\\.?\\d+)?)', # numbers\n",
    "    r\"(?:[a-z][a-z'\\-_]+[a-z])\", # words with - and '\n",
    "]\n",
    "    \n",
    "tokens_re = re.compile(r'('+'|'.join(regex_str)+')', re.VERBOSE | re.IGNORECASE)\n",
    "def tokenize(s):\n",
    "    return tokens_re.findall(s)\n",
    " \n",
    "def preprocess(s, lowercase=False):\n",
    "    tokens = tokenize(s)\n",
    "    if lowercase:\n",
    "        tokens = [token if tokens_re.search(token) else token.lower() for token in tokens]\n",
    "    return tokens\n",
    "\n",
    "#original_documents = [x.strip() for x in df['FullDescription']]\n",
    "#documents = [preprocess(d) for d in original_documents]\n",
    "#documents[0]"
   ]
  },
  {
   "cell_type": "markdown",
   "id": "medieval-favor",
   "metadata": {},
   "source": [
    "### 3) Hypothesis of the analysis outcome"
   ]
  },
  {
   "cell_type": "markdown",
   "id": "important-matthew",
   "metadata": {},
   "source": [
    "<p>\n",
    "We are hoping to find the correlation between: <br>\n",
    "    - the location and the salary<br>\n",
    "    - Job type and the salary<br>\n",
    "    - Classification and the salary<br> \n",
    "    - Skills and the salary<br> \n",
    "and read trends in the job market for finding the most desired skills for occupations or a job matching services. \n",
    "</p>"
   ]
  },
  {
   "cell_type": "markdown",
   "id": "danish-animation",
   "metadata": {},
   "source": [
    "## Part 2 – Data Analysis and Interpretation"
   ]
  },
  {
   "cell_type": "markdown",
   "id": "authentic-sympathy",
   "metadata": {},
   "source": [
    "#### Import libraries "
   ]
  },
  {
   "cell_type": "code",
   "execution_count": 60,
   "id": "authentic-basic",
   "metadata": {},
   "outputs": [],
   "source": [
    "import re\n",
    "from collections import Counter\n",
    "import string\n",
    "import matplotlib.pyplot as plt\n",
    "import numpy as np\n",
    "import seaborn as sns\n",
    "from nltk.stem import PorterStemmer, WordNetLemmatizer\n",
    "import nltk\n",
    "import string\n",
    "from nltk.corpus import stopwords\n",
    "import math\n",
    "from collections import Counter\n",
    "import pprint \n",
    "from nltk.util import ngrams\n",
    "pp = pprint.PrettyPrinter(indent=4)"
   ]
  },
  {
   "cell_type": "markdown",
   "id": "hollywood-lounge",
   "metadata": {},
   "source": [
    "#### 1) Study the job metadata. Extract the relevant information to describe the job’s attributes."
   ]
  },
  {
   "cell_type": "code",
   "execution_count": 26,
   "id": "incorporate-finding",
   "metadata": {
    "scrolled": true
   },
   "outputs": [
    {
     "data": {
      "text/plain": [
       "Full Time          74822\n",
       "Contract/Temp      20550\n",
       "Casual/Vacation     8224\n",
       "Part Time           7513\n",
       "Name: JobType, dtype: int64"
      ]
     },
     "execution_count": 26,
     "metadata": {},
     "output_type": "execute_result"
    }
   ],
   "source": [
    "df['JobType'].value_counts()"
   ]
  },
  {
   "cell_type": "code",
   "execution_count": 28,
   "id": "blessed-paradise",
   "metadata": {},
   "outputs": [
    {
     "name": "stdout",
     "output_type": "stream",
     "text": [
      "Information & Communication Technology    14713\n",
      "Hospitality & Tourism                      8471\n",
      "Trades & Services                          8450\n",
      "Manufacturing, Transport & Logistics       7542\n",
      "Healthcare & Medical                       7223\n",
      "Accounting                                 6595\n",
      "Administration & Office Support            6000\n",
      "Education & Training                       5385\n",
      "Sales                                      4862\n",
      "Construction                               4671\n",
      "Retail & Consumer Products                 4622\n",
      "Engineering                                3648\n",
      "Government & Defence                       3245\n",
      "Banking & Financial Services               3181\n",
      "Legal                                      3036\n",
      "Human Resources & Recruitment              2852\n",
      "Marketing & Communications                 2767\n",
      "Call Centre & Customer Service             2749\n",
      "Real Estate & Property                     2509\n",
      "Community Services & Development           1991\n",
      "Design & Architecture                      1343\n",
      "Mining, Resources & Energy                 1166\n",
      "Insurance & Superannuation                 1030\n",
      "Consulting & Strategy                       759\n",
      "Sport & Recreation                          606\n",
      "Science & Technology                        560\n",
      "Advertising, Arts & Media                   524\n",
      "CEO & General Management                    382\n",
      "Farming, Animals & Conservation             200\n",
      "Self Employment                              27\n",
      "Name: Classification, dtype: int64\n",
      "total unqiue sectors: 30\n"
     ]
    }
   ],
   "source": [
    "# jobs count by classification (job sector)\n",
    "total_sectors = df['Classification'].value_counts()\n",
    "print(total_sectors)\n",
    "print(\"total unqiue sectors:\", len(total_sectors))"
   ]
  },
  {
   "cell_type": "code",
   "execution_count": 29,
   "id": "polar-december",
   "metadata": {},
   "outputs": [
    {
     "data": {
      "text/plain": [
       "Other                                  5762\n",
       "Management                             3428\n",
       "Developers/Programmers                 2869\n",
       "Administrative Assistants              2624\n",
       "Warehousing, Storage & Distribution    2499\n",
       "                                       ... \n",
       "Local Government                          5\n",
       "Computer Operators                        5\n",
       "Agronomy & Farm Services                  4\n",
       "Air Force                                 3\n",
       "Army                                      1\n",
       "Name: SubClassification, Length: 337, dtype: int64"
      ]
     },
     "execution_count": 29,
     "metadata": {},
     "output_type": "execute_result"
    }
   ],
   "source": [
    "# sub-sectors\n",
    "df['SubClassification'].value_counts()"
   ]
  },
  {
   "cell_type": "markdown",
   "id": "ongoing-parking",
   "metadata": {},
   "source": [
    "#### 2) Study the market by locations."
   ]
  },
  {
   "cell_type": "code",
   "execution_count": 31,
   "id": "thick-aerospace",
   "metadata": {
    "scrolled": false
   },
   "outputs": [
    {
     "data": {
      "text/plain": [
       "Sydney       49174\n",
       "Melbourne    37156\n",
       "Brisbane     15658\n",
       "Perth         9121\n",
       "Name: Location, dtype: int64"
      ]
     },
     "execution_count": 31,
     "metadata": {},
     "output_type": "execute_result"
    }
   ],
   "source": [
    "df['Location'].value_counts()"
   ]
  },
  {
   "cell_type": "code",
   "execution_count": 32,
   "id": "absolute-listening",
   "metadata": {},
   "outputs": [
    {
     "data": {
      "image/png": "[encoded data removed]",
      "text/plain": [
       "<Figure size 720x432 with 1 Axes>"
      ]
     },
     "metadata": {
      "needs_background": "light"
     },
     "output_type": "display_data"
    }
   ],
   "source": [
    "f, ax = plt.subplots(figsize=(10, 6))\n",
    "# top 10 job posting location\n",
    "df['Location'].value_counts().plot(kind='bar')\n",
    "f.autofmt_xdate()\n",
    "plt.show()"
   ]
  },
  {
   "cell_type": "code",
   "execution_count": 33,
   "id": "medical-candle",
   "metadata": {},
   "outputs": [
    {
     "data": {
      "image/png": "[encoded data removed]",
      "text/plain": [
       "<Figure size 720x432 with 1 Axes>"
      ]
     },
     "metadata": {
      "needs_background": "light"
     },
     "output_type": "display_data"
    }
   ],
   "source": [
    "# top 10 location sorted by job sector\n",
    "f, ax = plt.subplots(figsize=(10, 6))\n",
    "df.groupby('Location')['Classification'].value_counts().head(10).plot(kind='bar')\n",
    "f.autofmt_xdate()\n",
    "plt.show()"
   ]
  },
  {
   "cell_type": "code",
   "execution_count": 34,
   "id": "premier-segment",
   "metadata": {
    "scrolled": true
   },
   "outputs": [
    {
     "data": {
      "image/png": "[encoded data removed]",
      "text/plain": [
       "<Figure size 432x288 with 1 Axes>"
      ]
     },
     "metadata": {
      "needs_background": "light"
     },
     "output_type": "display_data"
    }
   ],
   "source": [
    "# show average salary by sorted by location : mean (fix formatting later?, prob not) \n",
    "df.groupby('Location').agg({'AverageSalary':'mean'}).sort_values(by='AverageSalary', ascending=False).head(10).plot(kind='bar')\n",
    "plt.show()"
   ]
  },
  {
   "cell_type": "code",
   "execution_count": 35,
   "id": "architectural-essay",
   "metadata": {
    "scrolled": true
   },
   "outputs": [
    {
     "data": {
      "image/png": "[encoded data removed]",
      "text/plain": [
       "<Figure size 432x288 with 1 Axes>"
      ]
     },
     "metadata": {
      "needs_background": "light"
     },
     "output_type": "display_data"
    }
   ],
   "source": [
    "# average salary sorted by location (median, might be better, since there is a significant amount of 0s)\n",
    "df.groupby('Location').agg({'AverageSalary':'median'}).sort_values(by='AverageSalary', ascending=False).head(10).plot(kind='bar')\n",
    "plt.show()"
   ]
  },
  {
   "cell_type": "markdown",
   "id": "correct-morocco",
   "metadata": {},
   "source": [
    "#### 3) Study the market by sectors."
   ]
  },
  {
   "cell_type": "code",
   "execution_count": 36,
   "id": "following-times",
   "metadata": {},
   "outputs": [
    {
     "data": {
      "text/plain": [
       "Information & Communication Technology    14713\n",
       "Hospitality & Tourism                      8471\n",
       "Trades & Services                          8450\n",
       "Manufacturing, Transport & Logistics       7542\n",
       "Healthcare & Medical                       7223\n",
       "Accounting                                 6595\n",
       "Administration & Office Support            6000\n",
       "Education & Training                       5385\n",
       "Sales                                      4862\n",
       "Construction                               4671\n",
       "Retail & Consumer Products                 4622\n",
       "Engineering                                3648\n",
       "Government & Defence                       3245\n",
       "Banking & Financial Services               3181\n",
       "Legal                                      3036\n",
       "Human Resources & Recruitment              2852\n",
       "Marketing & Communications                 2767\n",
       "Call Centre & Customer Service             2749\n",
       "Real Estate & Property                     2509\n",
       "Community Services & Development           1991\n",
       "Design & Architecture                      1343\n",
       "Mining, Resources & Energy                 1166\n",
       "Insurance & Superannuation                 1030\n",
       "Consulting & Strategy                       759\n",
       "Sport & Recreation                          606\n",
       "Science & Technology                        560\n",
       "Advertising, Arts & Media                   524\n",
       "CEO & General Management                    382\n",
       "Farming, Animals & Conservation             200\n",
       "Self Employment                              27\n",
       "Name: Classification, dtype: int64"
      ]
     },
     "execution_count": 36,
     "metadata": {},
     "output_type": "execute_result"
    }
   ],
   "source": [
    "# could use some touch up later\n",
    "df['Classification'].value_counts()"
   ]
  },
  {
   "cell_type": "code",
   "execution_count": 37,
   "id": "backed-import",
   "metadata": {},
   "outputs": [
    {
     "data": {
      "text/plain": [
       "Classification     SubClassification                     \n",
       "Accounting         Financial Accounting & Reporting          867\n",
       "                   Business Services & Corporate Advisory    744\n",
       "                   Financial Managers & Controllers          639\n",
       "                   Accounts Officers/Clerks                  608\n",
       "                   Payroll                                   500\n",
       "                                                            ... \n",
       "Trades & Services  Butchers                                   38\n",
       "                   Locksmiths                                 19\n",
       "                   Nannies & Babysitters                      19\n",
       "                   Floristry                                  16\n",
       "                   Tailors & Dressmakers                      16\n",
       "Name: SubClassification, Length: 395, dtype: int64"
      ]
     },
     "execution_count": 37,
     "metadata": {},
     "output_type": "execute_result"
    }
   ],
   "source": [
    "# maybe need a clean up or a better way to visualise\n",
    "df.groupby('Classification')['SubClassification'].value_counts()"
   ]
  },
  {
   "cell_type": "code",
   "execution_count": 38,
   "id": "second-penalty",
   "metadata": {
    "scrolled": true
   },
   "outputs": [
    {
     "data": {
      "text/plain": [
       "Classification     SubClassification                     \n",
       "Accounting         Financial Accounting & Reporting          867\n",
       "                   Business Services & Corporate Advisory    744\n",
       "                   Financial Managers & Controllers          639\n",
       "                   Accounts Officers/Clerks                  608\n",
       "                   Payroll                                   500\n",
       "                                                            ... \n",
       "Trades & Services  Butchers                                   38\n",
       "                   Locksmiths                                 19\n",
       "                   Nannies & Babysitters                      19\n",
       "                   Floristry                                  16\n",
       "                   Tailors & Dressmakers                      16\n",
       "Name: SubClassification, Length: 395, dtype: int64"
      ]
     },
     "execution_count": 38,
     "metadata": {},
     "output_type": "execute_result"
    }
   ],
   "source": [
    "df.groupby('Classification')['SubClassification'].value_counts()"
   ]
  },
  {
   "cell_type": "code",
   "execution_count": 45,
   "id": "random-trainer",
   "metadata": {
    "scrolled": false
   },
   "outputs": [
    {
     "data": {
      "image/png": "[encoded data removed]",
      "text/plain": [
       "<Figure size 432x288 with 1 Axes>"
      ]
     },
     "metadata": {
      "needs_background": "light"
     },
     "output_type": "display_data"
    }
   ],
   "source": [
    "df.groupby('Classification').agg({'LowestSalary':'max'}).sort_values(by='LowestSalary', ascending=False).head(10).plot(kind='bar')\n",
    "plt.show()"
   ]
  },
  {
   "cell_type": "code",
   "execution_count": 46,
   "id": "rising-honey",
   "metadata": {},
   "outputs": [
    {
     "data": {
      "image/png": "[encoded data removed]",
      "text/plain": [
       "<Figure size 432x288 with 1 Axes>"
      ]
     },
     "metadata": {
      "needs_background": "light"
     },
     "output_type": "display_data"
    }
   ],
   "source": [
    "df.groupby('Classification').agg({'HighestSalary':'median'}).sort_values(by='HighestSalary', ascending=False).head(10).plot(kind='bar')\n",
    "plt.show()"
   ]
  },
  {
   "cell_type": "code",
   "execution_count": 47,
   "id": "outer-appointment",
   "metadata": {
    "scrolled": false
   },
   "outputs": [
    {
     "data": {
      "image/png": "[encoded data removed]",
      "text/plain": [
       "<Figure size 432x288 with 1 Axes>"
      ]
     },
     "metadata": {
      "needs_background": "light"
     },
     "output_type": "display_data"
    }
   ],
   "source": [
    "df.groupby('Classification').agg({'LowestSalary':'median'}).sort_values(by='LowestSalary', ascending=False).head(10).plot(kind='bar')\n",
    "plt.show()"
   ]
  },
  {
   "cell_type": "code",
   "execution_count": 48,
   "id": "killing-perth",
   "metadata": {},
   "outputs": [
    {
     "data": {
      "image/png": "[encoded data removed]",
      "text/plain": [
       "<Figure size 432x288 with 1 Axes>"
      ]
     },
     "metadata": {
      "needs_background": "light"
     },
     "output_type": "display_data"
    }
   ],
   "source": [
    "df.groupby('Classification').agg({'AverageSalary':'median'}).sort_values(by='AverageSalary', ascending=False).head(10).plot(kind='bar')\n",
    "plt.show()"
   ]
  },
  {
   "cell_type": "code",
   "execution_count": 49,
   "id": "juvenile-apparel",
   "metadata": {},
   "outputs": [
    {
     "data": {
      "image/png": "[encoded data removed]",
      "text/plain": [
       "<Figure size 432x288 with 1 Axes>"
      ]
     },
     "metadata": {
      "needs_background": "light"
     },
     "output_type": "display_data"
    }
   ],
   "source": [
    "df.groupby('SubClassification').agg({'AverageSalary':'median'}).sort_values(by='AverageSalary', ascending=False).head(10).plot(kind='bar')\n",
    "plt.show()"
   ]
  },
  {
   "cell_type": "markdown",
   "id": "constitutional-billion",
   "metadata": {},
   "source": [
    "Trying step by step (would crash if i combine the functions together)"
   ]
  },
  {
   "cell_type": "markdown",
   "id": "appropriate-matrix",
   "metadata": {},
   "source": [
    "#### Skills found from FullDescription"
   ]
  },
  {
   "cell_type": "code",
   "execution_count": 51,
   "id": "violent-protection",
   "metadata": {},
   "outputs": [],
   "source": [
    "cnt = Counter()\n",
    "for text in df['FullDescription'].values:\n",
    "    for word in text.split():\n",
    "        cnt[word] += 1"
   ]
  },
  {
   "cell_type": "code",
   "execution_count": 52,
   "id": "iraqi-planner",
   "metadata": {
    "scrolled": false
   },
   "outputs": [
    {
     "data": {
      "text/plain": [
       "[('experience', 243461),\n",
       " ('team', 191270),\n",
       " ('role', 190796),\n",
       " ('work', 189446),\n",
       " ('skills', 149962),\n",
       " ('business', 125444),\n",
       " ('management', 112926),\n",
       " ('working', 110823),\n",
       " ('please', 99525),\n",
       " ('apply', 98509)]"
      ]
     },
     "execution_count": 52,
     "metadata": {},
     "output_type": "execute_result"
    }
   ],
   "source": [
    "cnt.most_common(10)"
   ]
  },
  {
   "cell_type": "code",
   "execution_count": 53,
   "id": "fabulous-crest",
   "metadata": {},
   "outputs": [],
   "source": [
    "def preferred_skills(x):\n",
    "    temp = df[df['Classification']==x]\n",
    "    cnt = Counter()\n",
    "    for text in temp['FullDescription'].values:\n",
    "        for word in text.split():\n",
    "            cnt[word] += 1\n",
    "    return dict(cnt.most_common(20))"
   ]
  },
  {
   "cell_type": "code",
   "execution_count": 54,
   "id": "editorial-fruit",
   "metadata": {},
   "outputs": [
    {
     "data": {
      "text/plain": [
       "Information & Communication Technology    14713\n",
       "Hospitality & Tourism                      8471\n",
       "Trades & Services                          8450\n",
       "Manufacturing, Transport & Logistics       7542\n",
       "Healthcare & Medical                       7223\n",
       "Accounting                                 6595\n",
       "Administration & Office Support            6000\n",
       "Education & Training                       5385\n",
       "Sales                                      4862\n",
       "Construction                               4671\n",
       "Name: Classification, dtype: int64"
      ]
     },
     "execution_count": 54,
     "metadata": {},
     "output_type": "execute_result"
    }
   ],
   "source": [
    "# top 10 jobs sectors\n",
    "popular_jobs = df['Classification'].value_counts()[:10]\n",
    "popular_jobs"
   ]
  },
  {
   "cell_type": "code",
   "execution_count": 55,
   "id": "incorporate-prefix",
   "metadata": {},
   "outputs": [],
   "source": [
    "test = df[df['Classification']==popular_jobs.index[0]]"
   ]
  },
  {
   "cell_type": "code",
   "execution_count": 56,
   "id": "accepted-function",
   "metadata": {},
   "outputs": [
    {
     "data": {
      "text/plain": [
       "121         secure long term role genuine career path su...\n",
       "122       one australias best engineering workshops hiri...\n",
       "125       anzuk anzuk early recruitment agency provide e...\n",
       "126       australian icon connects people world post rol...\n",
       "127       company organisation wellestablished vast mark...\n",
       "                                ...                        \n",
       "197216    successful family owned retailer 40 stores thr...\n",
       "197217    work large bank wide program banking code prac...\n",
       "197218    leading financial sector seeking test test ana...\n",
       "197222    privately owned leading national construction ...\n",
       "197225    growing amp financially secure builder senior ...\n",
       "Name: FullDescription, Length: 111109, dtype: object"
      ]
     },
     "execution_count": 56,
     "metadata": {},
     "output_type": "execute_result"
    }
   ],
   "source": [
    "df['FullDescription']"
   ]
  },
  {
   "cell_type": "code",
   "execution_count": 57,
   "id": "fiscal-thomson",
   "metadata": {
    "scrolled": false
   },
   "outputs": [
    {
     "data": {
      "image/png": "[encoded data removed]",
      "text/plain": [
       "<Figure size 720x432 with 1 Axes>"
      ]
     },
     "metadata": {
      "needs_background": "light"
     },
     "output_type": "display_data"
    }
   ],
   "source": [
    "most_popular = preferred_skills(popular_jobs.index[0])\n",
    "f, ax = plt.subplots(figsize=(10, 6))\n",
    "plt.bar(most_popular.keys(), most_popular.values())\n",
    "f.autofmt_xdate()\n",
    "plt.show()"
   ]
  },
  {
   "cell_type": "markdown",
   "id": "dominant-castle",
   "metadata": {},
   "source": [
    "#### Skills found from Requirement"
   ]
  },
  {
   "cell_type": "code",
   "execution_count": 62,
   "id": "knowing-divide",
   "metadata": {
    "scrolled": false
   },
   "outputs": [
    {
     "name": "stderr",
     "output_type": "stream",
     "text": [
      "/Users/katyang/opt/miniconda3/envs/3803ict/lib/python3.7/site-packages/ipykernel_launcher.py:5: FutureWarning: The default value of regex will change from True to False in a future version.\n",
      "  \"\"\"\n"
     ]
    },
    {
     "name": "stdout",
     "output_type": "stream",
     "text": [
      "|  Required skills for [Trades & Services] jobs\n",
      "|   - person skills\n",
      "|   - proficient skills\n",
      "|   - weldingfabrication skillstlr\n",
      "|   - passion skills\n",
      "|   - servicingseeking skilled\n",
      "|--------------------------------------------------------------------------------\n",
      "|  Required skills for [Education & Training] jobs\n",
      "|   - enthusiastic skilled\n",
      "|   - want skills\n",
      "|   - highly skilled\n",
      "|   - highly skilled\n",
      "|   - highly skilled\n",
      "|--------------------------------------------------------------------------------\n",
      "|  Required skills for [Engineering] jobs\n",
      "|   - strong skills\n",
      "|   - looking skilled\n",
      "|   - vision skilled\n",
      "|   - ownership upskill\n",
      "|   - facing skills\n",
      "|--------------------------------------------------------------------------------\n",
      "|  Required skills for [Information & Communication Technology] jobs\n",
      "|   - support skills\n",
      "|   - service skills\n",
      "|   - managerial skillsmiddleware\n",
      "|   - lead skills\n",
      "|   - vmware skills\n",
      "|--------------------------------------------------------------------------------\n",
      "|  Required skills for [Marketing & Communications] jobs\n",
      "|   - communication skills\n",
      "|   - careersseeking multiskilled\n",
      "|   - management skills\n",
      "|   - relationships skillsignite\n",
      "|   - influencing skills\n",
      "|--------------------------------------------------------------------------------\n",
      "|  Required skills for [CEO & General Management] jobs\n",
      "|   - specialist skills\n",
      "|   - competitive positioningskilled\n",
      "|   - practical skills\n",
      "|   - practical skills\n",
      "|   - entrepreneurial skills\n",
      "|--------------------------------------------------------------------------------\n",
      "|  Required skills for [Human Resources & Recruitment] jobs\n",
      "|   - recruiting skills\n",
      "|   - essential skills\n",
      "|   - essential skills\n",
      "|   - management skillsclient\n",
      "|   - essential skills\n",
      "|--------------------------------------------------------------------------------\n",
      "|  Required skills for [Accounting] jobs\n",
      "|   - accounting skillsrole\n",
      "|   - communication skills\n",
      "|   - technical skills\n",
      "|   - use skills\n",
      "|   - administrative skills\n",
      "|--------------------------------------------------------------------------------\n",
      "|  Required skills for [Legal] jobs\n",
      "|   - based firmskilled\n",
      "|   - excellent skills\n",
      "|   - practice skilled\n",
      "|   - new skills\n",
      "|   - secretarial skills\n",
      "|--------------------------------------------------------------------------------\n",
      "|  Required skills for [Real Estate & Property] jobs\n",
      "|   - administration skills\n",
      "|   - opportunity skilled\n",
      "|   - networking skills\n",
      "|   - negotiation skills\n",
      "|   - management skills\n",
      "|--------------------------------------------------------------------------------\n",
      "|  Required skills for [Manufacturing, Transport & Logistics] jobs\n",
      "|   - opportunity skilled\n",
      "|   - rates benefitsskilled\n",
      "|   - people skills\n",
      "|   - dexterity skillsexperienced\n",
      "|   - gullyprogrammed skilled\n",
      "|--------------------------------------------------------------------------------\n",
      "|  Required skills for [Healthcare & Medical] jobs\n",
      "|   - clinical skills\n",
      "|   - clinical skills\n",
      "|   - provided skills\n",
      "|   - management skill\n",
      "|   - experienced skilled\n",
      "|--------------------------------------------------------------------------------\n",
      "|  Required skills for [Banking & Financial Services] jobs\n",
      "|   - management skills\n",
      "|   - administration skills\n",
      "|   - relations skills\n",
      "|   - assessment skills\n",
      "|   - solving skills\n",
      "|--------------------------------------------------------------------------------\n",
      "|  Required skills for [Construction] jobs\n",
      "|   - estimating skills\n",
      "|   - estimating skills\n",
      "|   - highly skilled\n",
      "|   - companyprogrammed skilled\n",
      "|   - concurrentlyprogrammed skilled\n",
      "|--------------------------------------------------------------------------------\n",
      "|  Required skills for [Sport & Recreation] jobs\n",
      "|   - sales skills\n",
      "|   - life skills\n",
      "|   - sales skills\n",
      "|   - service skills\n",
      "|   - bayseeking skills\n",
      "|--------------------------------------------------------------------------------\n",
      "|  Required skills for [Government & Defence] jobs\n",
      "|   - service skills\n",
      "|   - organisation skills\n",
      "|   - organisation skills\n",
      "|   - professional skilled\n",
      "|   - design skills\n",
      "|--------------------------------------------------------------------------------\n",
      "|  Required skills for [Hospitality & Tourism] jobs\n",
      "|   - people skills\n",
      "|   - bar skills\n",
      "|   - bar skills\n",
      "|   - creative skilled\n",
      "|   - wait skills\n",
      "|--------------------------------------------------------------------------------\n",
      "|  Required skills for [Sales] jobs\n",
      "|   - management skillsface\n",
      "|   - journeyhighly skilled\n",
      "|   - sales skills\n",
      "|   - buildershighly skilled\n",
      "|   - attribute skills\n",
      "|--------------------------------------------------------------------------------\n",
      "|  Required skills for [Retail & Consumer Products] jobs\n",
      "|   - service skills\n",
      "|   - service skills\n",
      "|   - retail skills\n",
      "|   - people skills\n",
      "|   - people skills\n",
      "|--------------------------------------------------------------------------------\n",
      "|  Required skills for [Call Centre & Customer Service] jobs\n",
      "|   - use skills\n",
      "|   - sales skillsconsultative\n",
      "|   - service skills\n",
      "|   - use skills\n",
      "|   - interpersonal skills\n",
      "|--------------------------------------------------------------------------------\n",
      "|  Required skills for [Administration & Office Support] jobs\n",
      "|   - gain skills\n",
      "|   - communication skills\n",
      "|   - telephone skillsamazing\n",
      "|   - admin skills\n",
      "|   - communication skills\n",
      "|--------------------------------------------------------------------------------\n",
      "|  Required skills for [Design & Architecture] jobs\n",
      "|   - autocad skills\n",
      "|   - revit skills\n",
      "|   - experience skilled\n",
      "|   - design skillsjoin\n",
      "|   - documentation skills\n",
      "|--------------------------------------------------------------------------------\n",
      "|  Required skills for [Mining, Resources & Energy] jobs\n",
      "|   - great multiskilled\n",
      "|   - developing skills\n",
      "|   - experienced skilled\n",
      "|   - utilise skills\n",
      "|   - seeking multiskilled\n",
      "|--------------------------------------------------------------------------------\n",
      "|  Required skills for [Science & Technology] jobs\n",
      "|   - closely skilled\n",
      "|   - seeking skilled\n",
      "|   - experience skills\n",
      "|   - biology skills\n",
      "|   - cross skilledtrained\n",
      "|--------------------------------------------------------------------------------\n",
      "|  Required skills for [Advertising, Arts & Media] jobs\n",
      "|   - service skills\n",
      "|   - people skills\n",
      "|   - grow skillswriter\n",
      "|   - start skills\n",
      "|   - design skill\n",
      "|--------------------------------------------------------------------------------\n",
      "|  Required skills for [Insurance & Superannuation] jobs\n",
      "|   - communication skillsopportunity\n",
      "|   - strategic skills\n",
      "|   - leadership skills\n",
      "|   - within multiskilled\n",
      "|   - service skills\n",
      "|--------------------------------------------------------------------------------\n",
      "|  Required skills for [Farming, Animals & Conservation] jobs\n",
      "|   - gain skills\n",
      "|   - responsible skilled\n",
      "|   - reception skillsfantastic\n",
      "|   - teamprogrammed skilled\n",
      "|   - clinical skills\n",
      "|--------------------------------------------------------------------------------\n",
      "|  Required skills for [Community Services & Development] jobs\n",
      "|   - rosteringpeople skills\n",
      "|   - use skills\n",
      "|   - teamdemonstrated skills\n",
      "|   - life skillsbuild\n",
      "|   - life skillsjoin\n",
      "|--------------------------------------------------------------------------------\n",
      "|  Required skills for [Self Employment] jobs\n",
      "|   - bring skills\n",
      "|   - bring skills\n",
      "|   - bring skills\n",
      "|   - bring skills\n",
      "|--------------------------------------------------------------------------------\n",
      "|  Required skills for [Consulting & Strategy] jobs\n",
      "|   - advance skill\n",
      "|   - consultancy skills\n",
      "|   - consultancy skills\n",
      "|   - organisational skills\n",
      "|   - clientsuse skills\n",
      "|--------------------------------------------------------------------------------\n"
     ]
    }
   ],
   "source": [
    "# Lowercase all Requirements\n",
    "df['Requirement'] = df['Requirement'].apply(lambda x: \" \".join(x.lower() for x in x.split()))\n",
    "\n",
    "# Remove punctuation\n",
    "df['Requirement'] = df['Requirement'].str.replace('[^\\w\\s]','')\n",
    "\n",
    "# Remove stopwords\n",
    "stop = stopwords.words('english')\n",
    "df['Requirement'] = df['Requirement'].apply(lambda x: \" \".join(x for x in x.split() if x not in stop))\n",
    "\n",
    "\n",
    "# Requirement analysis\n",
    "temp = pd.DataFrame(df['Classification'])\n",
    "temp['Reqirement'] = df['Requirement']\n",
    "classification = temp['Classification'].unique()\n",
    "\n",
    "# Create job_cls dict to save all Requirement for each Classification\n",
    "job_cls = {}\n",
    "for i in classification:\n",
    "    job_cls[i] = \"\"\n",
    "\n",
    "# Concat Requirement for each Classification    \n",
    "arr_temp = temp.to_numpy()\n",
    "for i in arr_temp:\n",
    "    job_cls[i[0]] += i[1]\n",
    "\n",
    "\n",
    "# Most frequent phrases for each Classification \n",
    "most_freq_phrases = {}\n",
    "\n",
    "for key, item in job_cls.items():\n",
    "    most_freq_phrases[key] = list(ngrams(item.split(' '), 2))\n",
    "\n",
    "\n",
    "for key, item in most_freq_phrases.items():\n",
    "    print(f'|  Required skills for [{key}] jobs')\n",
    "    counter = 1\n",
    "    for i in item:\n",
    "        if 'skill' in i[1]:            \n",
    "            print(f'|   - {i[0]} {i[1]}')\n",
    "            counter += 1\n",
    "            if counter > 5:\n",
    "                break\n",
    "\n",
    "    print(\"|--------------------------------------------------------------------------------\")"
   ]
  },
  {
   "cell_type": "markdown",
   "id": "rocky-prior",
   "metadata": {},
   "source": [
    "### Seaonality"
   ]
  },
  {
   "cell_type": "code",
   "execution_count": 63,
   "id": "indirect-daughter",
   "metadata": {},
   "outputs": [],
   "source": [
    "location_posting = df.groupby('Date')['Location'].value_counts()\n",
    "location_posting = location_posting.to_frame('count').reset_index().set_index('Date')"
   ]
  },
  {
   "cell_type": "code",
   "execution_count": 64,
   "id": "helpful-startup",
   "metadata": {},
   "outputs": [],
   "source": [
    "# four locations\n",
    "syd_posting = location_posting[location_posting.Location == 'Sydney']\n",
    "melb_posting = location_posting[location_posting.Location == 'Melbourne']\n",
    "perth_posting = location_posting[location_posting.Location == 'Perth'] \n",
    "bris_posting = location_posting[location_posting.Location == 'Brisbane'] "
   ]
  },
  {
   "cell_type": "code",
   "execution_count": 65,
   "id": "potential-ranking",
   "metadata": {
    "scrolled": true
   },
   "outputs": [],
   "source": [
    "# change to month start\n",
    "syd_posting_ms = syd_posting.resample(\"MS\")['count'].agg(['sum']).reset_index()\n",
    "melb_posting_ms = melb_posting.resample(\"MS\")['count'].agg(['sum']).reset_index()\n",
    "perth_posting_ms = perth_posting.resample(\"MS\")['count'].agg(['sum']).reset_index()\n",
    "bris_posting_ms = bris_posting.resample(\"MS\")['count'].agg(['sum']).reset_index()"
   ]
  },
  {
   "cell_type": "code",
   "execution_count": 66,
   "id": "functional-launch",
   "metadata": {},
   "outputs": [
    {
     "data": {
      "text/html": [
       "<div>\n",
       "<style scoped>\n",
       "    .dataframe tbody tr th:only-of-type {\n",
       "        vertical-align: middle;\n",
       "    }\n",
       "\n",
       "    .dataframe tbody tr th {\n",
       "        vertical-align: top;\n",
       "    }\n",
       "\n",
       "    .dataframe thead th {\n",
       "        text-align: right;\n",
       "    }\n",
       "</style>\n",
       "<table border=\"1\" class=\"dataframe\">\n",
       "  <thead>\n",
       "    <tr style=\"text-align: right;\">\n",
       "      <th></th>\n",
       "      <th>Date</th>\n",
       "      <th>sum</th>\n",
       "    </tr>\n",
       "  </thead>\n",
       "  <tbody>\n",
       "    <tr>\n",
       "      <th>0</th>\n",
       "      <td>2018-10-01</td>\n",
       "      <td>29363</td>\n",
       "    </tr>\n",
       "    <tr>\n",
       "      <th>1</th>\n",
       "      <td>2018-11-01</td>\n",
       "      <td>10796</td>\n",
       "    </tr>\n",
       "    <tr>\n",
       "      <th>2</th>\n",
       "      <td>2018-12-01</td>\n",
       "      <td>9015</td>\n",
       "    </tr>\n",
       "  </tbody>\n",
       "</table>\n",
       "</div>"
      ],
      "text/plain": [
       "        Date    sum\n",
       "0 2018-10-01  29363\n",
       "1 2018-11-01  10796\n",
       "2 2018-12-01   9015"
      ]
     },
     "execution_count": 66,
     "metadata": {},
     "output_type": "execute_result"
    }
   ],
   "source": [
    "syd_posting_ms"
   ]
  },
  {
   "cell_type": "code",
   "execution_count": 67,
   "id": "hispanic-helping",
   "metadata": {
    "scrolled": false
   },
   "outputs": [
    {
     "data": {
      "image/png": "[encoded data removed]",
      "text/plain": [
       "<Figure size 432x288 with 1 Axes>"
      ]
     },
     "metadata": {
      "needs_background": "light"
     },
     "output_type": "display_data"
    }
   ],
   "source": [
    "f, ax = plt.subplots(1, 1)\n",
    "ax = sns.pointplot(x='Date', y='sum', data=syd_posting_ms, color='b')\n",
    "ax1 = sns.pointplot(x='Date', y='sum', data=melb_posting_ms, color='g')\n",
    "ax2 =sns.pointplot(x='Date', y='sum', data=perth_posting_ms, color='r')\n",
    "ax3 = sns.pointplot(x='Date', y='sum', data=bris_posting_ms, color='c')\n",
    "ax.set_xticklabels([t.get_text().split(\"T\")[0] for t in ax.get_xticklabels()])\n",
    "ax.legend(handles=ax.lines[::len(syd_posting_ms)+1], labels=[\"Sydney\", \"Melbourne\", \"Perth\", \"Brisbane\"])\n",
    "plt.show()"
   ]
  },
  {
   "cell_type": "code",
   "execution_count": 68,
   "id": "floating-system",
   "metadata": {},
   "outputs": [
    {
     "data": {
      "text/html": [
       "<div>\n",
       "<style scoped>\n",
       "    .dataframe tbody tr th:only-of-type {\n",
       "        vertical-align: middle;\n",
       "    }\n",
       "\n",
       "    .dataframe tbody tr th {\n",
       "        vertical-align: top;\n",
       "    }\n",
       "\n",
       "    .dataframe thead th {\n",
       "        text-align: right;\n",
       "    }\n",
       "</style>\n",
       "<table border=\"1\" class=\"dataframe\">\n",
       "  <thead>\n",
       "    <tr style=\"text-align: right;\">\n",
       "      <th></th>\n",
       "      <th>Date</th>\n",
       "      <th>Location</th>\n",
       "      <th>count</th>\n",
       "    </tr>\n",
       "  </thead>\n",
       "  <tbody>\n",
       "    <tr>\n",
       "      <th>0</th>\n",
       "      <td>2018-10-01</td>\n",
       "      <td>Sydney</td>\n",
       "      <td>266</td>\n",
       "    </tr>\n",
       "    <tr>\n",
       "      <th>1</th>\n",
       "      <td>2018-10-02</td>\n",
       "      <td>Sydney</td>\n",
       "      <td>605</td>\n",
       "    </tr>\n",
       "    <tr>\n",
       "      <th>2</th>\n",
       "      <td>2018-10-03</td>\n",
       "      <td>Sydney</td>\n",
       "      <td>1282</td>\n",
       "    </tr>\n",
       "    <tr>\n",
       "      <th>3</th>\n",
       "      <td>2018-10-04</td>\n",
       "      <td>Sydney</td>\n",
       "      <td>2052</td>\n",
       "    </tr>\n",
       "    <tr>\n",
       "      <th>4</th>\n",
       "      <td>2018-10-05</td>\n",
       "      <td>Sydney</td>\n",
       "      <td>1551</td>\n",
       "    </tr>\n",
       "    <tr>\n",
       "      <th>...</th>\n",
       "      <td>...</td>\n",
       "      <td>...</td>\n",
       "      <td>...</td>\n",
       "    </tr>\n",
       "    <tr>\n",
       "      <th>70</th>\n",
       "      <td>2018-12-12</td>\n",
       "      <td>Sydney</td>\n",
       "      <td>1622</td>\n",
       "    </tr>\n",
       "    <tr>\n",
       "      <th>71</th>\n",
       "      <td>2018-12-13</td>\n",
       "      <td>Sydney</td>\n",
       "      <td>1793</td>\n",
       "    </tr>\n",
       "    <tr>\n",
       "      <th>72</th>\n",
       "      <td>2018-12-14</td>\n",
       "      <td>Sydney</td>\n",
       "      <td>2678</td>\n",
       "    </tr>\n",
       "    <tr>\n",
       "      <th>73</th>\n",
       "      <td>2018-12-15</td>\n",
       "      <td>Sydney</td>\n",
       "      <td>291</td>\n",
       "    </tr>\n",
       "    <tr>\n",
       "      <th>74</th>\n",
       "      <td>2018-12-16</td>\n",
       "      <td>Sydney</td>\n",
       "      <td>219</td>\n",
       "    </tr>\n",
       "  </tbody>\n",
       "</table>\n",
       "<p>75 rows × 3 columns</p>\n",
       "</div>"
      ],
      "text/plain": [
       "         Date Location  count\n",
       "0  2018-10-01   Sydney    266\n",
       "1  2018-10-02   Sydney    605\n",
       "2  2018-10-03   Sydney   1282\n",
       "3  2018-10-04   Sydney   2052\n",
       "4  2018-10-05   Sydney   1551\n",
       "..        ...      ...    ...\n",
       "70 2018-12-12   Sydney   1622\n",
       "71 2018-12-13   Sydney   1793\n",
       "72 2018-12-14   Sydney   2678\n",
       "73 2018-12-15   Sydney    291\n",
       "74 2018-12-16   Sydney    219\n",
       "\n",
       "[75 rows x 3 columns]"
      ]
     },
     "execution_count": 68,
     "metadata": {},
     "output_type": "execute_result"
    }
   ],
   "source": [
    "syd_posting = syd_posting.reset_index()\n",
    "syd_posting"
   ]
  },
  {
   "cell_type": "code",
   "execution_count": 69,
   "id": "sudden-amazon",
   "metadata": {},
   "outputs": [
    {
     "data": {
      "image/png": "[encoded data removed]",
      "text/plain": [
       "<Figure size 432x288 with 1 Axes>"
      ]
     },
     "metadata": {
      "needs_background": "light"
     },
     "output_type": "display_data"
    }
   ],
   "source": [
    "# Using moving average\n",
    "def moving_average(df, k, to_period):\n",
    "    moving_average_df = pd.DataFrame(columns=['Date','count'])\n",
    "    num_df = len(df)\n",
    "    for m in range(0, to_period):\n",
    "        if m < k:\n",
    "            sale_predict = float('nan')\n",
    "        else:\n",
    "            history = df['count'][m-k:m]\n",
    "            sale_predict = history.mean()\n",
    "        moving_average_df.loc[m] = [m+1, sale_predict]\n",
    "\n",
    "    moving_average_df['Date'] = moving_average_df['Date'].astype(int)\n",
    "    return moving_average_df\n",
    "\n",
    "f, ax = plt.subplots(1, 1)\n",
    "ma_df = moving_average(syd_posting, 3, 80)\n",
    "sns.pointplot(x='Date', y='count', data=syd_posting, color='b')\n",
    "sns.pointplot(x='Date', y='count', data=ma_df, color='g')\n",
    "ax.legend(handles=ax.lines[::len(syd_posting_ms)+1], labels=[\"Actual\", \"3-MA\"])\n",
    "plt.gcf().autofmt_xdate()\n",
    "plt.show()"
   ]
  },
  {
   "cell_type": "code",
   "execution_count": 70,
   "id": "remarkable-impact",
   "metadata": {},
   "outputs": [
    {
     "data": {
      "image/png": "[encoded data removed]",
      "text/plain": [
       "<Figure size 432x288 with 1 Axes>"
      ]
     },
     "metadata": {
      "needs_background": "light"
     },
     "output_type": "display_data"
    }
   ],
   "source": [
    "def exponential_smoothing(df, alpha):\n",
    "    es_df = pd.DataFrame(columns=['Date','count'])\n",
    "    es_df.loc[0] = [1, df['count'][0]]\n",
    "    num_df = len(df)\n",
    "    for m in range(0, num_df):\n",
    "        sale_predict = alpha * df['count'][m] + (1-alpha) * es_df['Date'][m]\n",
    "        es_df.loc[m+1] = [m+2, sale_predict]\n",
    "        \n",
    "    es_df['Date'] = es_df['Date'].astype(int)\n",
    "    return es_df\n",
    "\n",
    "f, ax = plt.subplots(1, 1)\n",
    "es_df_08 = exponential_smoothing(syd_posting, 0.8)\n",
    "sns.pointplot(ax=ax, x='Date', y='count', data=syd_posting, color='b')\n",
    "sns.pointplot(ax=ax, x='Date', y='count', data=es_df_08, color='r')\n",
    "\n",
    "ax.legend(handles=ax.lines[::len(syd_posting)+2], labels=[\"Actual\", r\"$\\alpha=0.8$\"])\n",
    "plt.show()"
   ]
  },
  {
   "cell_type": "code",
   "execution_count": 71,
   "id": "north-medline",
   "metadata": {},
   "outputs": [],
   "source": [
    "from datetime import datetime"
   ]
  },
  {
   "cell_type": "code",
   "execution_count": 72,
   "id": "educational-substitute",
   "metadata": {},
   "outputs": [
    {
     "name": "stdout",
     "output_type": "stream",
     "text": [
      "    count  Period Season  Seq\n",
      "0     266       1      I    1\n",
      "1     605       2      I    2\n",
      "2    1282       3      I    3\n",
      "3    2052       4      I    4\n",
      "4    1551       5      I    1\n",
      "..    ...     ...    ...  ...\n",
      "70   1622      71    III    3\n",
      "71   1793      72    III    4\n",
      "72   2678      73    III    1\n",
      "73    291      74    III    2\n",
      "74    219      75    III    3\n",
      "\n",
      "[75 rows x 4 columns]\n",
      "Season  Seq           I     II    III\n",
      "0         1  773.111111  741.0  691.4\n",
      "1         2  545.777778  965.0  342.0\n",
      "2         3  560.000000  851.6  431.4\n",
      "3         4  913.250000  574.2  395.0\n"
     ]
    },
    {
     "name": "stderr",
     "output_type": "stream",
     "text": [
      "/Users/katyang/opt/miniconda3/envs/3803ict/lib/python3.7/site-packages/ipykernel_launcher.py:47: RankWarning: Polyfit may be poorly conditioned\n"
     ]
    },
    {
     "data": {
      "image/png": "[encoded data removed]",
      "text/plain": [
       "<Figure size 432x288 with 1 Axes>"
      ]
     },
     "metadata": {
      "needs_background": "light"
     },
     "output_type": "display_data"
    }
   ],
   "source": [
    "# 18,37,56,75\n",
    "def get_season(row):\n",
    "    if row['Period'] >= 18 and row['Period'] <= 37:\n",
    "        return 'II'\n",
    "    elif row['Period'] >= 56 and row['Period'] <= 75:\n",
    "        return 'III'\n",
    "    else:\n",
    "        return 'I'\n",
    "\n",
    "def get_seq(row):\n",
    "    return row['Period']%4 and row['Period']%4 or 4\n",
    "\n",
    "def predict_with_seasonality(df, months):\n",
    "    new_df = df.copy()\n",
    "    new_df['Period'] = new_df.index + 1\n",
    "    new_df = new_df.drop(columns=['Location', 'Date'])\n",
    "    new_df['Season'] = new_df.apply(get_season, axis=1)\n",
    "    new_df['Seq'] = new_df.apply(get_seq, axis=1)\n",
    "    print(new_df)\n",
    "    \n",
    "    season_df = new_df.pivot_table(index='Seq', columns='Season', values='count')\n",
    "    season_df = season_df.reset_index()\n",
    "    print(season_df)\n",
    "    season_df.index = season_df['Seq']\n",
    "    season_df = season_df.drop(['Seq'], axis=1)\n",
    "    \n",
    "    avg_df = season_df.apply(np.mean)\n",
    "    \n",
    "    seasonal_index_df = pd.DataFrame(columns=['I','II','III'])\n",
    "    seasonal_index_df['I'] = season_df['I']/avg_df['I']\n",
    "    seasonal_index_df['II'] = season_df['II']/avg_df['II']\n",
    "    seasonal_index_df['III'] = season_df['III']/avg_df['III']\n",
    "    seasonal_index_df['Avg'] = seasonal_index_df.mean(axis=1)\n",
    "    \n",
    "    season = np.array([1,2,3])\n",
    "    avg_arr = np.array([avg_df['I'], avg_df['II'], avg_df['III']])\n",
    "    fit = np.polyfit(season, avg_arr, 3)\n",
    "    poly = np.poly1d(fit)\n",
    "    average_predict = poly(4)\n",
    "    forecast_df = pd.DataFrame(columns=['Period','Sales'])\n",
    "    \n",
    "    forecast_df['count'] = seasonal_index_df['Avg']*average_predict\n",
    "    forecast_df['Period'] = months\n",
    "    forecast_df.index = np.array(months) - 1\n",
    "    return forecast_df\n",
    "\n",
    "season_df = predict_with_seasonality(syd_posting, [76,77,78,79])\n",
    "\n",
    "f, ax = plt.subplots(1, 1)\n",
    "plt.plot(syd_posting['Date'], syd_posting['count'], c='y')\n",
    "plt.plot(season_df['Period'], season_df['Sales'], c='r')\n",
    "plt.show()"
   ]
  },
  {
   "cell_type": "markdown",
   "id": "amended-parliament",
   "metadata": {},
   "source": [
    "## Part 3 - Evaluation"
   ]
  },
  {
   "cell_type": "markdown",
   "id": "naked-slope",
   "metadata": {},
   "source": [
    "#### 1) What are the findings of your data analytics for the above sections?\n",
    "\n",
    "\n",
    "\n"
   ]
  },
  {
   "cell_type": "markdown",
   "id": "arctic-wedding",
   "metadata": {},
   "source": [
    "#### 2) What actions for balancing the markets do you suggest based on your findings?\n",
    "\n",
    "\n"
   ]
  },
  {
   "cell_type": "markdown",
   "id": "classical-buying",
   "metadata": {},
   "source": [
    "#### 3) How could you refine your data analytics?\n",
    "\n",
    "The analysis from the dataset provides insights for [something]. However, it is not suitable for sentiment analysis since most job advertisements are written in a neutral tone. For example, Reddit is a popular social media platform since users can form communities with people with similar hobbies, interests, or occupations. A survey from a particular community for different work field can be used for further analysis such as job satisfaction, working hours and required skills. "
   ]
  },
  {
   "cell_type": "markdown",
   "id": "necessary-registration",
   "metadata": {},
   "source": [
    "#### 4) Are there any implications for employers and employees based on the findings you obtained? Justify your answer.\n",
    "\n",
    "\n",
    "\n"
   ]
  },
  {
   "cell_type": "markdown",
   "id": "lasting-salmon",
   "metadata": {},
   "source": []
  },
  {
   "cell_type": "markdown",
   "id": "amended-recall",
   "metadata": {},
   "source": [
    "## Part 4 - Case Studies: Case 2"
   ]
  },
  {
   "cell_type": "markdown",
   "id": "collected-michigan",
   "metadata": {},
   "source": [
    "- The problem.\n",
    "\n",
    "    - Build a recommender system to provide top 10 jobs using a job market dataset suitable to a candidate's profile \n",
    "\n",
    "  \n",
    "\n",
    "- The solution\n",
    "    1. Extract the keywords from the candidate's profile and CV.\n",
    "    2. Compare the candidate's keywords with job listings.\n",
    "    3. Return the top 10 most matching job listings. \n"
   ]
  },
  {
   "cell_type": "code",
   "execution_count": null,
   "id": "modified-front",
   "metadata": {},
   "outputs": [],
   "source": []
  }
 ],
 "metadata": {
  "kernelspec": {
   "display_name": "Python 3",
   "language": "python",
   "name": "python3"
  },
  "language_info": {
   "codemirror_mode": {
    "name": "ipython",
    "version": 3
   },
   "file_extension": ".py",
   "mimetype": "text/x-python",
   "name": "python",
   "nbconvert_exporter": "python",
   "pygments_lexer": "ipython3",
   "version": "3.7.10"
  }
 },
 "nbformat": 4,
 "nbformat_minor": 5
}
